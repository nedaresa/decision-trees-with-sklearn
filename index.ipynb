{
 "cells": [
  {
   "cell_type": "markdown",
   "metadata": {},
   "source": [
    "# Building Decision Trees using scikit-learn\n",
    "NJabbari; Aug 28th, 2019\n",
    "\n",
    "Perform a decision tree algorithm with scikit-learn and using tennis.csv.  \n",
    "I suggest a few changes to be made to the solution workflow provided by Learn.co:\n",
    "\n",
    "1. y is not a matrix and hence should be lowercase.\n",
    "2. Split train and test prior to OneHotEncoding rather than after. This helps avoid any information leakage from the test set into the train set."
   ]
  },
  {
   "cell_type": "code",
   "execution_count": null,
   "metadata": {},
   "outputs": [],
   "source": [
    "import pandas as pd \n",
    "import numpy as np \n",
    "from sklearn.model_selection import train_test_split\n",
    "from sklearn.tree import DecisionTreeClassifier \n",
    "from sklearn import tree \n",
    "from sklearn.preprocessing import OneHotEncoder\n",
    "from sklearn.metrics import classification_report, confusion_matrix\n",
    "from sklearn.externals.six import StringIO  \n",
    "from sklearn.tree import export_graphviz\n",
    "import pydotplus"
   ]
  },
  {
   "cell_type": "markdown",
   "metadata": {},
   "source": [
    "## Create dataframe and preprocess"
   ]
  },
  {
   "cell_type": "code",
   "execution_count": null,
   "metadata": {},
   "outputs": [],
   "source": [
    "# Load the dataset\n",
    "df = pd.read_csv('tennis.csv') "
   ]
  },
  {
   "cell_type": "code",
   "execution_count": null,
   "metadata": {},
   "outputs": [],
   "source": [
    "# Split features and target variable\n",
    "X = df[['outlook', 'temp', 'humidity', 'windy']] \n",
    "y = df['play']"
   ]
  },
  {
   "cell_type": "markdown",
   "metadata": {},
   "source": [
    "## Create Test and Training sets\n"
   ]
  },
  {
   "cell_type": "code",
   "execution_count": null,
   "metadata": {},
   "outputs": [],
   "source": [
    "X_train, X_test , y_train,y_test = train_test_split(X, y, test_size = 0.3, random_state = 42) "
   ]
  },
  {
   "cell_type": "code",
   "execution_count": null,
   "metadata": {},
   "outputs": [],
   "source": [
    "# Instantiate a one hot encoder\n",
    "ohe = OneHotEncoder(handle_unknown='ignore')\n",
    "\n",
    "# Fit to X train and transform X train and X test \n",
    "X_train_ohe = ohe.fit_transform(X_train)\n",
    "X_test_ohe = ohe.transform(X_test)\n",
    "\n",
    "#convert the X train and X test to pandas dataframe\n",
    "X_train_ohe_df = pd.DataFrame(X_train_ohe.todense(), columns = ohe.get_feature_names())\n",
    "X_test_ohe_df = pd.DataFrame(X_test_ohe.todense(), columns = ohe.get_feature_names())"
   ]
  },
  {
   "cell_type": "code",
   "execution_count": null,
   "metadata": {},
   "outputs": [],
   "source": [
    "ohe.categories_"
   ]
  },
  {
   "cell_type": "code",
   "execution_count": null,
   "metadata": {},
   "outputs": [],
   "source": [
    "ohetarget = OneHotEncoder()\n",
    "y_train_ohe = ohetarget.fit_transform(y_train.values.reshape(-1,1))\n",
    "y_test_ohe = ohetarget.transform(y_test.values.reshape(-1,1))\n",
    "#convert into pandas dataframe\n",
    "y_train_ohe_df = pd.DataFrame(y_train_ohe.todense(),columns = ohetarget.get_feature_names())\n",
    "y_test_ohe_df = pd.DataFrame(y_test_ohe.todense(),columns = ohetarget.get_feature_names())"
   ]
  },
  {
   "cell_type": "code",
   "execution_count": null,
   "metadata": {},
   "outputs": [],
   "source": [
    "ohetarget.categories_"
   ]
  },
  {
   "cell_type": "markdown",
   "metadata": {},
   "source": [
    "Or instead of OneHotEncoding target, convert it to binary values."
   ]
  },
  {
   "cell_type": "code",
   "execution_count": null,
   "metadata": {},
   "outputs": [],
   "source": [
    "y_train_binary = y_train.apply(lambda x: 1 if x == 'yes' else 0)\n",
    "y_test_binary = y_test.apply(lambda x: 1 if x == 'yes' else 0)"
   ]
  },
  {
   "cell_type": "markdown",
   "metadata": {},
   "source": [
    "## Train the Decision Tree "
   ]
  },
  {
   "cell_type": "code",
   "execution_count": null,
   "metadata": {},
   "outputs": [],
   "source": [
    "clf= DecisionTreeClassifier(criterion='entropy')\n",
    "clf.fit(X_train_ohe_df,y_train_ohe_df['x0_yes']) \n",
    "#generate predictions\n",
    "y_test_pred = clf.predict(X_test_ohe_df)"
   ]
  },
  {
   "cell_type": "code",
   "execution_count": null,
   "metadata": {},
   "outputs": [],
   "source": [
    "dot_file = StringIO()\n",
    "\n",
    "export_graphviz(clf, out_file=dot_file, filled=True,\n",
    "               rounded=True)\n",
    "\n",
    "image=pydotplus.graph_from_dot_data(dot_file.getvalue())\n",
    "Image(image.create_png())"
   ]
  },
  {
   "cell_type": "code",
   "execution_count": null,
   "metadata": {},
   "outputs": [],
   "source": [
    "y_test_pred == y_test_ohe_df['x0_yes'] #3 out of 5 times \"play\" is truly predicted to be \"yes\"."
   ]
  },
  {
   "cell_type": "code",
   "execution_count": null,
   "metadata": {},
   "outputs": [],
   "source": [
    "#score is measure of accuracy\n",
    "clf.score(X_test_ohe_df, y_test_ohe_df['x0_yes'])\n",
    "\n",
    "#use the following if you pursue with y_test_binary\n",
    "#clf.score(X_test_ohe_df, y_test_binary)"
   ]
  },
  {
   "cell_type": "code",
   "execution_count": null,
   "metadata": {},
   "outputs": [],
   "source": [
    "print(confusion_matrix(y_test_ohe_df['x0_yes'], y_test_pred))\n",
    "print(classification_report(y_test_ohe_df['x0_yes'], y_test_pred))"
   ]
  }
 ],
 "metadata": {
  "kernelspec": {
   "display_name": "Python 3",
   "language": "python",
   "name": "python3"
  },
  "language_info": {
   "codemirror_mode": {
    "name": "ipython",
    "version": 3
   },
   "file_extension": ".py",
   "mimetype": "text/x-python",
   "name": "python",
   "nbconvert_exporter": "python",
   "pygments_lexer": "ipython3",
   "version": "3.7.3"
  }
 },
 "nbformat": 4,
 "nbformat_minor": 2
}
